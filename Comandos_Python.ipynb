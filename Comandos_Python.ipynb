{
 "cells": [
  {
   "cell_type": "markdown",
   "id": "005e3a6d",
   "metadata": {},
   "source": [
    "# Comandos de Python"
   ]
  },
  {
   "cell_type": "markdown",
   "id": "b02ae1e9",
   "metadata": {},
   "source": [
    "![enter image description here](https://www.python.org/static/community_logos/python-logo-master-v3-TM.png)"
   ]
  },
  {
   "cell_type": "markdown",
   "id": "2010394d",
   "metadata": {},
   "source": [
    "**Autor:** Silvio da Rosa Paula"
   ]
  },
  {
   "cell_type": "markdown",
   "id": "58947812",
   "metadata": {},
   "source": [
    "#### Dicionário de Termos:             \n",
    "    \n",
    "|Abreviação  | Descrição |\n",
    "|------------|-----------|\n",
    "|     df     | dataframe |\n",
    "|     TB     | tabela    |\n",
    "|    Var     | Coluna    |"
   ]
  },
  {
   "cell_type": "markdown",
   "id": "595934bf",
   "metadata": {},
   "source": [
    "#### Operadores de Comparação:\n",
    "Os operadores de comparação sempre retornam um valor lógico TRUE ou FALSE.\n",
    "\n",
    "| Operador |   Significado    |\n",
    "|----------|------------------|\n",
    "|     ==   | igual a          |\n",
    "|     !=   | diferente de\t    |\n",
    "|     >    | maior que        |\n",
    "|     <    | menor que        |\n",
    "|     >=   | maior ou igual a |\n",
    "|     <=   | menor ou igual a |"
   ]
  },
  {
   "cell_type": "markdown",
   "id": "1c785f37",
   "metadata": {},
   "source": [
    "#### Operadores  Aritméticos\n",
    "\n",
    "| Operador |   Descrição      |\n",
    "|----------|------------------|\n",
    "|     +    | adição           |\n",
    "|     -    | subtração\t      |\n",
    "|     *    | multiplicação    |\n",
    "|     /    | divisão          |\n",
    "|     //   | divisão sem resto|\n",
    "|    :     | sequência        |\n",
    "|     ^    |  exponencial     |\n",
    "|    %     | módulo           |"
   ]
  },
  {
   "cell_type": "markdown",
   "id": "0bd45059",
   "metadata": {},
   "source": [
    "#### Operadores lógicos e boleanos\n",
    "\n",
    "| Operador  |   Descrição     |\n",
    "|-----------|-----------------|\n",
    "|     and   | \"e\" lógico      |\n",
    "|     or    | \"ou\" lógico     |\n",
    "|     not   | \"não\" lógico    |\n",
    "|     +=    | adiciona o item a mais e soma   |\n",
    "|     bool(0)   |  booleano onde 0 = FALSE    |\n",
    "|     bool(1)   |  booleano onde 1 = TRUE     |\n"
   ]
  },
  {
   "cell_type": "markdown",
   "id": "b9f661db",
   "metadata": {},
   "source": [
    "## Atalhos\n",
    "\n",
    "| Operação                      |    Atalho                 |\n",
    "|-------------------------------|---------------------------|\n",
    "|Executar                       | Ctrl  + Enter             |\n",
    "|Salvar script                  | Ctrl + S                  |\n",
    "|Limpar console                 | Ctrl + L                  |\n",
    "|Lista  argumentos da função    | Ctrl + espaço  ou Tab     |\n",
    "|Adicionar pipe(`%>%`)          | Ctrl + shift + M          |\n",
    "|Cria um chunk no R Markdown    | Ctrl + Alt + I            |\n",
    "|Restart Rstudio                | Crtl + Shift + F10        |\n",
    "|Visualizar todos os atalhos    | Alt  + Shift + K          |\n",
    "|Mais Zoom                      | Crtl  +                   |\n",
    "|Menos Zoom                     | Crtl  -                   |"
   ]
  },
  {
   "cell_type": "markdown",
   "id": "9a4ada1f",
   "metadata": {},
   "source": [
    "**Para abrir o Jupyter notebook direto da pasta onde estão os scripts** \n",
    "\n",
    "* Pressione shift + Botão direto do mouse / seleciona abrir janela do powershel aqui / digite: jupyter notebook "
   ]
  },
  {
   "cell_type": "markdown",
   "id": "7e780356",
   "metadata": {},
   "source": [
    "**LINKS ÚTEIS**     \n",
    "\n",
    "* Documentação Python https://docs.python.org/release/3.6.4/\n",
    "\n",
    "* PyPi https://pypi.python.org/pypiData "
   ]
  },
  {
   "cell_type": "markdown",
   "id": "2e8606aa",
   "metadata": {},
   "source": [
    "**Para instalar thema escuro no jupyter via pronpt de comando do python**\n",
    "* pip install jupyterthemes      \n",
    "* jt -l # para listar themas      \n",
    "* jt -t monokai # escolhendo thema monokai      \n",
    "* jt -r # thema padrão      "
   ]
  },
  {
   "cell_type": "code",
   "execution_count": 3,
   "id": "31abd7dc",
   "metadata": {},
   "outputs": [
    {
     "data": {
      "text/plain": [
       "'cole o texto aqui'"
      ]
     },
     "execution_count": 3,
     "metadata": {},
     "output_type": "execute_result"
    }
   ],
   "source": [
    "# Para inserir comentários maiores ou texto\n",
    "\"\"\"cole o texto aqui\"\"\""
   ]
  },
  {
   "cell_type": "markdown",
   "id": "d49b43a1",
   "metadata": {},
   "source": [
    "## Instalar e Carregar Pacotes"
   ]
  },
  {
   "cell_type": "code",
   "execution_count": null,
   "id": "51076760",
   "metadata": {},
   "outputs": [],
   "source": [
    "# Ver a versão do Python que estamos utilizando\n",
    "from platform import python_version\n",
    "print('Versão da Linguagem Python', python_version())"
   ]
  },
  {
   "cell_type": "code",
   "execution_count": null,
   "id": "a780ce22",
   "metadata": {},
   "outputs": [],
   "source": [
    "# Instalar pacote no Python diretamente do jupyter \n",
    "!pip3 install -U dataprep\n",
    "\n",
    "# ATENÇÃO: é melhor instalar pelo terminal para evitar erros\n",
    "pip install -U dataprep\n",
    "conda install -c conda-forge dataprep"
   ]
  },
  {
   "cell_type": "code",
   "execution_count": null,
   "id": "da70dbc3",
   "metadata": {},
   "outputs": [],
   "source": [
    "# Instalar uma versão mais antiga de um pacote\n",
    "!pip install -q -U matplotlib==3.2.1"
   ]
  },
  {
   "cell_type": "code",
   "execution_count": null,
   "id": "e98c4dfe",
   "metadata": {},
   "outputs": [],
   "source": [
    "# Instalar pacote no baixado no computador \n",
    "conda install D:/package-filename.tar.bz2"
   ]
  },
  {
   "cell_type": "code",
   "execution_count": null,
   "id": "227ba1b1",
   "metadata": {},
   "outputs": [],
   "source": [
    "# Atualizar pacotes\n",
    "!conda update jupyter"
   ]
  },
  {
   "cell_type": "code",
   "execution_count": null,
   "id": "90d2a803",
   "metadata": {},
   "outputs": [],
   "source": [
    "# Carregar pacotes instalados\n",
    "#[OBS: o np significa  basta chamar np ao invés do nome do pacote inteiro numpy\n",
    "import numpy as np\n",
    "import pandas as pd\n",
    "import matplotlib\n",
    "import seaborn as sns"
   ]
  },
  {
   "cell_type": "code",
   "execution_count": null,
   "id": "727e583b",
   "metadata": {},
   "outputs": [],
   "source": [
    "# Importar todos os módulos do NumPy, isso evitará a utilização de np.\n",
    "from numpy import * . "
   ]
  },
  {
   "cell_type": "code",
   "execution_count": null,
   "id": "5aa4cef0",
   "metadata": {},
   "outputs": [],
   "source": [
    "# Ver todos os modulos de um pacote \n",
    "dir(pd)"
   ]
  },
  {
   "cell_type": "code",
   "execution_count": null,
   "id": "5f1eca05",
   "metadata": {},
   "outputs": [],
   "source": [
    "# importar somente um modulo de um pacote\n",
    "import matplotlib.pyplot as plt\n",
    "from sklearn.utils import resample"
   ]
  },
  {
   "cell_type": "code",
   "execution_count": null,
   "id": "cb6fdd77",
   "metadata": {},
   "outputs": [],
   "source": [
    "# Descarregar pacotes"
   ]
  },
  {
   "cell_type": "code",
   "execution_count": null,
   "id": "680cf95f",
   "metadata": {},
   "outputs": [],
   "source": [
    "# Verificar a versão do pacote\n",
    "import numpy as np\n",
    "np.__version__"
   ]
  },
  {
   "cell_type": "code",
   "execution_count": null,
   "id": "82e9e9e8",
   "metadata": {},
   "outputs": [],
   "source": [
    "# Utilizar uma função específica de um pacote sem carregar o pacote"
   ]
  },
  {
   "cell_type": "code",
   "execution_count": null,
   "id": "2c425af5",
   "metadata": {},
   "outputs": [],
   "source": [
    "# Acessar a documentação"
   ]
  },
  {
   "cell_type": "code",
   "execution_count": null,
   "id": "32608d1f",
   "metadata": {},
   "outputs": [],
   "source": [
    "# Para acessar o help de um pacote \n",
    "help(pd)"
   ]
  },
  {
   "cell_type": "code",
   "execution_count": null,
   "id": "4faa7dad",
   "metadata": {},
   "outputs": [],
   "source": [
    "# Filtar warnings\n",
    "import warnings "
   ]
  },
  {
   "cell_type": "code",
   "execution_count": null,
   "id": "bbef64eb",
   "metadata": {},
   "outputs": [],
   "source": [
    "# Limpar console e base de dados"
   ]
  },
  {
   "cell_type": "code",
   "execution_count": null,
   "id": "52d9d396",
   "metadata": {},
   "outputs": [],
   "source": [
    "# Ver pasta de trabalho\n",
    "%pwd\n",
    "\n",
    "# Definir pasta de trabalho\n",
    "%cd C:\\pasta"
   ]
  },
  {
   "cell_type": "markdown",
   "id": "00f2a975",
   "metadata": {},
   "source": [
    "## Visualização de Dataframes"
   ]
  },
  {
   "cell_type": "code",
   "execution_count": null,
   "id": "1be0eaf8",
   "metadata": {},
   "outputs": [],
   "source": [
    "# Visualizar uma prévia do dataframe\n",
    "df.head()"
   ]
  },
  {
   "cell_type": "code",
   "execution_count": null,
   "id": "a1e5a613",
   "metadata": {},
   "outputs": [],
   "source": [
    "# Visualizar as primeiras 10 linhas do dataframe\n",
    "df.head(10)"
   ]
  },
  {
   "cell_type": "code",
   "execution_count": null,
   "id": "f1a6faf1",
   "metadata": {},
   "outputs": [],
   "source": [
    "# Visualizar as últimas 10 linhas do dataframe\n",
    "df"
   ]
  },
  {
   "cell_type": "code",
   "execution_count": null,
   "id": "192549df-366c-4619-90fd-44e74d7c2b93",
   "metadata": {},
   "outputs": [],
   "source": [
    "# visualizar dados de uma condição\n",
    "df[df['var']<0]"
   ]
  },
  {
   "cell_type": "code",
   "execution_count": null,
   "id": "2f68db51-51cc-47c5-9ceb-3cb813bfd06f",
   "metadata": {},
   "outputs": [],
   "source": [
    "# Pedir resumo de variáveis, quantas são numericas, string etc\n",
    "# conda install -c conda-forge pandas-profiling\n",
    "import pandas_profiling\n",
    "pandas_profiling.ProfileReport(df)\n",
    "\n",
    "# ou\n",
    "profile = ProfileReport(df, title=\"Pandas Profiling Report\")\n",
    "\n",
    "# ver mais em:\n",
    "# https://pypi.org/project/pandas-profiling/"
   ]
  },
  {
   "cell_type": "code",
   "execution_count": null,
   "id": "0063ae20",
   "metadata": {},
   "outputs": [],
   "source": [
    "# Visualizar pesquisa no data frame\n",
    "df.query('idade > 20 & sexo==\"F\"').head(10)\n",
    "df.query('idade > 20 | sexo==\"F\"').head(10)\n",
    "\n",
    "# ou\n",
    "import mitosheet\n",
    "mitosheet.sheet(df.query('idade > 20 & tp_sexo==\"F\"').head(10), view_df=True)\n",
    "\n",
    "# ver mais em:\n",
    "# https://minerandodados.com.br/analise-de-dados-com-python-usando-pandas/"
   ]
  },
  {
   "cell_type": "code",
   "execution_count": null,
   "id": "feac163d",
   "metadata": {},
   "outputs": [],
   "source": [
    "# Visualizar dimensões do dataframe (linhas e colunas)\n",
    "df.shape\n",
    "\n",
    "# Ver outras informações como tipo de variável observaçoes numero das colunas\n",
    "df.info()"
   ]
  },
  {
   "cell_type": "code",
   "execution_count": null,
   "id": "b0f3ec82",
   "metadata": {},
   "outputs": [],
   "source": [
    "# Visualizar o nome das colunas de um dataframe\n",
    "print(df.columns.values)\n",
    "\n",
    "# ou\n",
    "print(df.columns.tolist())\n",
    "\n",
    "# ou\n",
    "list(df)\n",
    "\n",
    "#ou\n",
    "pd.DataFrame(df.columns)"
   ]
  },
  {
   "cell_type": "code",
   "execution_count": null,
   "id": "5baaeb39",
   "metadata": {},
   "outputs": [],
   "source": [
    "# Visualizar nome de colunas utilizando seu número"
   ]
  },
  {
   "cell_type": "code",
   "execution_count": null,
   "id": "5f788591",
   "metadata": {},
   "outputs": [],
   "source": [
    "# Visualizar detalhes das variáveis do dataframe"
   ]
  },
  {
   "cell_type": "code",
   "execution_count": null,
   "id": "c078e3ca",
   "metadata": {},
   "outputs": [],
   "source": [
    "# Visualizar o tipo das colunas de um dataframe\n",
    "df.dtypes.head(10)\n",
    "\n",
    "# Ou\n",
    "\n",
    "df.types"
   ]
  },
  {
   "cell_type": "code",
   "execution_count": null,
   "id": "8baace9e",
   "metadata": {},
   "outputs": [],
   "source": [
    "# Visualizar o tipo de classe de uma variável (numérico, string, etc.)"
   ]
  },
  {
   "cell_type": "code",
   "execution_count": null,
   "id": "6cf64895",
   "metadata": {},
   "outputs": [],
   "source": [
    "# Visualizar a classe de um objeto (numeric, matrix, data.frame, etc,)\n",
    "type(df)"
   ]
  },
  {
   "cell_type": "code",
   "execution_count": null,
   "id": "be17d562",
   "metadata": {},
   "outputs": [],
   "source": [
    "# ver todos os dataframes carregados\n",
    "%who\n",
    "%who_ls"
   ]
  },
  {
   "cell_type": "code",
   "execution_count": null,
   "id": "e1d4c47e",
   "metadata": {},
   "outputs": [],
   "source": [
    "# table(R) ou tab(stata) no python\n",
    "df.value_counts('var')\n",
    "\n",
    "# table ampliado para todas as variáveis\n",
    "df.groupby(['col1']).count()"
   ]
  },
  {
   "cell_type": "code",
   "execution_count": null,
   "id": "fc25c1e5",
   "metadata": {},
   "outputs": [],
   "source": [
    "# Visualizar apenas algumas colunas\n",
    "df[['var_1', 'var_2', 'var_3']].head()"
   ]
  },
  {
   "cell_type": "code",
   "execution_count": null,
   "id": "685817b2",
   "metadata": {},
   "outputs": [],
   "source": [
    "# Visualizar dados de forma interativa e automatizada gerado gráficos e tudo mais\n",
    "import mitosheet\n",
    "mitosheet.sheet(df, view_df=True)"
   ]
  },
  {
   "cell_type": "code",
   "execution_count": null,
   "id": "71b950c0-0341-4c2c-8465-7d54c3dc052d",
   "metadata": {},
   "outputs": [],
   "source": [
    "# Tabelar dados categoricos (tab ou table)\n",
    "np.unique(df['var'], return_counts=True)"
   ]
  },
  {
   "cell_type": "markdown",
   "id": "19a5c528",
   "metadata": {},
   "source": [
    "## Manipulando Dataframes"
   ]
  },
  {
   "cell_type": "code",
   "execution_count": null,
   "id": "4cbd37c3",
   "metadata": {},
   "outputs": [],
   "source": [
    "# Ordenando alfabeticamente as colunas de um dataframe"
   ]
  },
  {
   "cell_type": "code",
   "execution_count": null,
   "id": "293fc95b",
   "metadata": {},
   "outputs": [],
   "source": [
    "# Ordenar uma coluna de um dataframe"
   ]
  },
  {
   "cell_type": "code",
   "execution_count": null,
   "id": "ab8a2ed6",
   "metadata": {},
   "outputs": [],
   "source": [
    "# Ordenar nomes das colunas de um dataframe"
   ]
  },
  {
   "cell_type": "code",
   "execution_count": null,
   "id": "7bda3c1f",
   "metadata": {},
   "outputs": [],
   "source": [
    "# Gerar uma amostra com o comando subset"
   ]
  },
  {
   "cell_type": "code",
   "execution_count": null,
   "id": "edd4f9c6",
   "metadata": {},
   "outputs": [],
   "source": [
    "# Gerar uma amostra com período delimitado\n",
    "df_2010 = df[df['Ano']==2010]"
   ]
  },
  {
   "cell_type": "code",
   "execution_count": null,
   "id": "c43eb9af",
   "metadata": {},
   "outputs": [],
   "source": [
    "# Gerar uma amostra com as primeiras 1000 linhas de um dataframe"
   ]
  },
  {
   "cell_type": "code",
   "execution_count": null,
   "id": "561f74d2",
   "metadata": {},
   "outputs": [],
   "source": [
    "# Reshape de long para wide"
   ]
  },
  {
   "cell_type": "code",
   "execution_count": null,
   "id": "6f71229c",
   "metadata": {},
   "outputs": [],
   "source": [
    "# Clonar uma variável\n",
    "df['var_clone'] = df['var']"
   ]
  },
  {
   "cell_type": "code",
   "execution_count": null,
   "id": "4cca9a9a",
   "metadata": {},
   "outputs": [],
   "source": [
    "# Deixar somente alguns dos dataframes selecionados"
   ]
  },
  {
   "cell_type": "code",
   "execution_count": null,
   "id": "983c8eab",
   "metadata": {},
   "outputs": [],
   "source": [
    "# Remover dataframe"
   ]
  },
  {
   "cell_type": "code",
   "execution_count": null,
   "id": "94444112",
   "metadata": {},
   "outputs": [],
   "source": [
    "# Renomear data.frame"
   ]
  },
  {
   "cell_type": "code",
   "execution_count": null,
   "id": "92148f03",
   "metadata": {},
   "outputs": [],
   "source": [
    "# Renomear colunas\n",
    "df = df.rename(columns={'nome_antigo_1': 'nome_novo_1', \n",
    "                        'nome_antigo_2': 'nome_novo_2'})"
   ]
  },
  {
   "cell_type": "code",
   "execution_count": null,
   "id": "4e0e0581-f510-462d-8f57-90b66313d9a5",
   "metadata": {},
   "outputs": [],
   "source": [
    "# Passar nome das colunas para minuscula\n",
    "df= df.rename(columns=str.lower)"
   ]
  },
  {
   "cell_type": "code",
   "execution_count": null,
   "id": "14ab2c67",
   "metadata": {},
   "outputs": [],
   "source": [
    "# Renomear múltiplas colunas de um só vez"
   ]
  },
  {
   "cell_type": "code",
   "execution_count": null,
   "id": "7d8de986",
   "metadata": {},
   "outputs": [],
   "source": [
    "# Renomear colunas de um data.frame"
   ]
  },
  {
   "cell_type": "code",
   "execution_count": null,
   "id": "6d4bea34",
   "metadata": {},
   "outputs": [],
   "source": [
    "# Renomear colunas adicionando um prefixo e sufixo"
   ]
  },
  {
   "cell_type": "code",
   "execution_count": null,
   "id": "bafb2a0f",
   "metadata": {},
   "outputs": [],
   "source": [
    "# Dropar (deletar) colunas do dataframe\n",
    "df.drop('var', axis=1, inplace=True)\n",
    "\n",
    "# Onde: axis=1 indica que é uma coluna; inplace=True remove somente a coluna e mantem o restante dos dados\n",
    "\n",
    "# Dropar (deletar) maide uma colunas do dataframe\n",
    "df.drop(['var_1', 'var_2'], axis=1, inplace=True)"
   ]
  },
  {
   "cell_type": "code",
   "execution_count": null,
   "id": "45e6a5a8-af08-4cdf-a7f9-018d1851b4c9",
   "metadata": {},
   "outputs": [],
   "source": [
    "# Dropar determinados registros baseados em uma condição\n",
    "df = df.drop(df[df['var'] <0].index)"
   ]
  },
  {
   "cell_type": "code",
   "execution_count": null,
   "id": "870d25b6",
   "metadata": {},
   "outputs": [],
   "source": [
    "# Dropar (deletar) colunas do dataframe e gerar outro dataframe\n",
    "df2 = df.drop('var', axis=1, inplace=False)\n",
    "\n",
    "# Onde: axis=1 indica que é uma coluna; inplace=False para atribuir a modificação a outro dataframe"
   ]
  },
  {
   "cell_type": "code",
   "execution_count": null,
   "id": "880912d4",
   "metadata": {},
   "outputs": [],
   "source": [
    "# Gerar uma nova coluna dentro em um dataframe"
   ]
  },
  {
   "cell_type": "code",
   "execution_count": null,
   "id": "ac14f82b",
   "metadata": {},
   "outputs": [],
   "source": [
    "# Gerar nova coluna por meio da soma de duas colonas desconsiderando os missings (soma)"
   ]
  },
  {
   "cell_type": "code",
   "execution_count": null,
   "id": "b84efc12",
   "metadata": {},
   "outputs": [],
   "source": [
    "# Gerar uma nova coluna tirando o logaritmo de uma variável"
   ]
  },
  {
   "cell_type": "code",
   "execution_count": null,
   "id": "55bfc8a0",
   "metadata": {},
   "outputs": [],
   "source": [
    "# Gerar múltiplas colunas em logaritmo"
   ]
  },
  {
   "cell_type": "code",
   "execution_count": null,
   "id": "ddc72c2d",
   "metadata": {},
   "outputs": [],
   "source": [
    "# Adicionar um label a uma coluna"
   ]
  },
  {
   "cell_type": "code",
   "execution_count": null,
   "id": "156dca69",
   "metadata": {},
   "outputs": [],
   "source": [
    "# Converter uma coluna de numérico para string"
   ]
  },
  {
   "cell_type": "code",
   "execution_count": null,
   "id": "57303584",
   "metadata": {},
   "outputs": [],
   "source": [
    "# Converter uma coluna de string para numérico substituindo as virgulas por pontos\n",
    "df['var'] = pd.to_numeric(df['var'].str.replace(',','.'))"
   ]
  },
  {
   "cell_type": "code",
   "execution_count": null,
   "id": "3e98a9f6",
   "metadata": {},
   "outputs": [],
   "source": [
    "# Converter uma coluna para numérico"
   ]
  },
  {
   "cell_type": "code",
   "execution_count": null,
   "id": "d3290e67",
   "metadata": {},
   "outputs": [],
   "source": [
    "# Converter um conjunto de colunas para numérico "
   ]
  },
  {
   "cell_type": "code",
   "execution_count": null,
   "id": "929b013a",
   "metadata": {},
   "outputs": [],
   "source": [
    "# Converter todo dataframe para numérico\n",
    "df.apply(pd.to_numeric, errors='ignore')"
   ]
  },
  {
   "cell_type": "code",
   "execution_count": null,
   "id": "3cdd70a9",
   "metadata": {},
   "outputs": [],
   "source": [
    "# Converter uma coluna para fator"
   ]
  },
  {
   "cell_type": "code",
   "execution_count": null,
   "id": "819c9205",
   "metadata": {},
   "outputs": [],
   "source": [
    "# Converter colunas selecionadas para numérico"
   ]
  },
  {
   "cell_type": "code",
   "execution_count": null,
   "id": "9cf45743",
   "metadata": {},
   "outputs": [],
   "source": [
    "# Gerar uma variável categórica"
   ]
  },
  {
   "cell_type": "code",
   "execution_count": null,
   "id": "17f9e016",
   "metadata": {},
   "outputs": [],
   "source": [
    "# Arredondando valores de uma coluna ou de varias colunas"
   ]
  },
  {
   "cell_type": "code",
   "execution_count": null,
   "id": "4a2d3ee0",
   "metadata": {},
   "outputs": [],
   "source": [
    "# Arredondar valores de todas as colunas exceto a var1"
   ]
  },
  {
   "cell_type": "code",
   "execution_count": null,
   "id": "db3c1d96",
   "metadata": {},
   "outputs": [],
   "source": [
    "# Arredondar valores de todas as colunas cujo nome começa por VAR"
   ]
  },
  {
   "cell_type": "code",
   "execution_count": null,
   "id": "44152078",
   "metadata": {},
   "outputs": [],
   "source": [
    "# Arredondar valores apenas colunas numéricas"
   ]
  },
  {
   "cell_type": "code",
   "execution_count": null,
   "id": "f959d698",
   "metadata": {},
   "outputs": [],
   "source": [
    "# Agregar os dados com a soma"
   ]
  },
  {
   "cell_type": "code",
   "execution_count": null,
   "id": "c0130257",
   "metadata": {},
   "outputs": [],
   "source": [
    "# Replace com ifelse"
   ]
  },
  {
   "cell_type": "code",
   "execution_count": null,
   "id": "896e2507",
   "metadata": {},
   "outputs": [],
   "source": [
    "# Remover primeira e última linha"
   ]
  },
  {
   "cell_type": "code",
   "execution_count": null,
   "id": "6d2f303a",
   "metadata": {},
   "outputs": [],
   "source": [
    "# Gerar categorias a partir de uma variável númericas"
   ]
  },
  {
   "cell_type": "code",
   "execution_count": null,
   "id": "a896b7bc",
   "metadata": {},
   "outputs": [],
   "source": [
    "# Transformar valores númericos em categorias nominais\n",
    "df['var_categorica'] = df['var_numerica'].map({1: categoria_1, 2: categoria_2, 3: categoria_3})"
   ]
  },
  {
   "cell_type": "markdown",
   "id": "5dd94cae",
   "metadata": {},
   "source": [
    "## Variáveis do Tipo Data (Date)"
   ]
  },
  {
   "cell_type": "code",
   "execution_count": null,
   "id": "a130791d",
   "metadata": {},
   "outputs": [],
   "source": [
    "# Converter uma variável para o tipo date"
   ]
  },
  {
   "cell_type": "code",
   "execution_count": null,
   "id": "3d99bfb2",
   "metadata": {},
   "outputs": [],
   "source": [
    "# Extrair apenas o ano de uma coluna do tipo date"
   ]
  },
  {
   "cell_type": "code",
   "execution_count": null,
   "id": "6a8cbf7a",
   "metadata": {},
   "outputs": [],
   "source": [
    "# Extrair apenas o mês de uma coluna do tipo date"
   ]
  },
  {
   "cell_type": "code",
   "execution_count": null,
   "id": "d55f204f",
   "metadata": {},
   "outputs": [],
   "source": [
    "# Extrair apenas o dia de uma coluna do tipo date"
   ]
  },
  {
   "cell_type": "code",
   "execution_count": null,
   "id": "aedd7214",
   "metadata": {},
   "outputs": [],
   "source": [
    "# Dividir coluna date em várias colunas"
   ]
  },
  {
   "cell_type": "markdown",
   "id": "b66f8dd0",
   "metadata": {},
   "source": [
    "## Missings \n"
   ]
  },
  {
   "cell_type": "code",
   "execution_count": null,
   "id": "83167ec4",
   "metadata": {},
   "outputs": [],
   "source": [
    "# Ver total de missings das colunas de um dataframe\n",
    "df.isnull().sum()"
   ]
  },
  {
   "cell_type": "code",
   "execution_count": null,
   "id": "22681a91",
   "metadata": {},
   "outputs": [],
   "source": [
    "# Ver total de missings das colunas de um dataframe na ordem descrescente\n",
    "df.isnull().sum().sort_values(ascending=False)[:30]"
   ]
  },
  {
   "cell_type": "code",
   "execution_count": null,
   "id": "06f79143-c607-457c-a26f-e92250819b85",
   "metadata": {},
   "outputs": [],
   "source": [
    "# Ver os registros com missings \n",
    "df.loc[pd.isnull(df['var'])]"
   ]
  },
  {
   "cell_type": "code",
   "execution_count": null,
   "id": "be1aa56c-b927-4f27-ad4c-f4633e8000be",
   "metadata": {},
   "outputs": [],
   "source": [
    "# Ver os registros com missings \n",
    "df.loc[pd.isnull(df['var'])]"
   ]
  },
  {
   "cell_type": "code",
   "execution_count": null,
   "id": "e0e07fdc",
   "metadata": {},
   "outputs": [],
   "source": [
    "# Ver as linhas e colunas com missings\n",
    "df[df.isnull().any(axis=1)]"
   ]
  },
  {
   "cell_type": "code",
   "execution_count": null,
   "id": "f9f811ed",
   "metadata": {},
   "outputs": [],
   "source": [
    "# Plotar missings\n",
    "plt.figure(figsize=(10,6))\n",
    "sns.displot(\n",
    "    data=df.isna().melt(value_name=\"missing\"),\n",
    "    y=\"variable\",\n",
    "    hue=\"missing\",\n",
    "    multiple=\"fill\",\n",
    "    aspect=1.25\n",
    ")\n",
    "\n",
    "# Ou\n",
    "plt.figure(figsize=(10,6))\n",
    "sns.heatmap(df.isna().transpose(),\n",
    "            cmap=\"YlGnBu\",\n",
    "            cbar_kws={'label': 'Missing Data'})\n",
    "\n",
    "# Ou\n",
    "plt.figure(figsize=(30,10))\n",
    "sns.heatmap(df.isnull(),cbar=False)\n"
   ]
  },
  {
   "cell_type": "code",
   "execution_count": null,
   "id": "a044e0f7",
   "metadata": {},
   "outputs": [],
   "source": [
    "# Fazer resumo de missings e zeros"
   ]
  },
  {
   "cell_type": "code",
   "execution_count": null,
   "id": "bd7a8da8",
   "metadata": {},
   "outputs": [],
   "source": [
    "# Ver total de células vazias de uma coluna string"
   ]
  },
  {
   "cell_type": "code",
   "execution_count": null,
   "id": "6ae7f5a4",
   "metadata": {},
   "outputs": [],
   "source": [
    "# Remover missings e deixar o dataframe completo sem missings\n",
    "df_2 = df.dropna()"
   ]
  },
  {
   "cell_type": "code",
   "execution_count": null,
   "id": "f2305c95",
   "metadata": {},
   "outputs": [],
   "source": [
    "# Removendo cédulas vazias (missings) de um dataframe"
   ]
  },
  {
   "cell_type": "code",
   "execution_count": null,
   "id": "35749e26",
   "metadata": {},
   "outputs": [],
   "source": [
    "# Remover missings baseado em uma variável"
   ]
  },
  {
   "cell_type": "code",
   "execution_count": null,
   "id": "f1dcede1",
   "metadata": {},
   "outputs": [],
   "source": [
    "# Imputar dados faltante com interpolação"
   ]
  },
  {
   "cell_type": "code",
   "execution_count": null,
   "id": "72bfda69",
   "metadata": {},
   "outputs": [],
   "source": [
    "# Substituir missings pela Média, Mediana, Moda GERAL\n",
    "df['var'].fillna(df['var'].mode()[0], inplace = True) \n",
    "df['var'].fillna(df['var'].median(), inplace = True) \n",
    "df['var'].fillna(df['var'].mean(), inplace = True) "
   ]
  },
  {
   "cell_type": "code",
   "execution_count": null,
   "id": "95baa035-df7c-40bd-a97b-9a2591808197",
   "metadata": {},
   "outputs": [],
   "source": [
    "#  Preencher os valores inconsistentes com as médias\n",
    "df['var'][df['var']>0].mean()\n",
    "\n",
    "# Fazendo o replace\n",
    "df.loc[df['var']<0, 'var']=40 # 40 é a média por exemplo"
   ]
  },
  {
   "cell_type": "code",
   "execution_count": null,
   "id": "c4bf2fc0",
   "metadata": {},
   "outputs": [],
   "source": [
    "# Preencher missings com a mediana\n",
    "\n",
    "# extrair a mediana de var\n",
    "var_mediana = df.var.median()\n",
    "\n",
    "# preencher a coluna LotFrontage com a mediana\n",
    "df.fillna(var_mediana, inplace=True)"
   ]
  },
  {
   "cell_type": "code",
   "execution_count": null,
   "id": "af93c9d0",
   "metadata": {},
   "outputs": [],
   "source": [
    "# Preencher missings com a moda\n",
    "# identificar o valor mais frequente\n",
    "print(df.var.value_counts())\n",
    "var_freq = df.var.value_counts()[0]\n",
    "\n",
    "# preencher missing values com o valor acima\n",
    "df.var.fillna(var_freq, inplace=True)"
   ]
  },
  {
   "cell_type": "code",
   "execution_count": null,
   "id": "5ec6d2e2",
   "metadata": {},
   "outputs": [],
   "source": [
    "# Substituir missings pela mediana GERAL isso evita problemas com outliers"
   ]
  },
  {
   "cell_type": "code",
   "execution_count": null,
   "id": "b9dbe64d",
   "metadata": {},
   "outputs": [],
   "source": [
    "# Substituir missings pela média agrupada por id"
   ]
  },
  {
   "cell_type": "code",
   "execution_count": null,
   "id": "514c689c",
   "metadata": {},
   "outputs": [],
   "source": [
    "# Substituir missings pela mediana agrupada por id"
   ]
  },
  {
   "cell_type": "code",
   "execution_count": null,
   "id": "d82bc074",
   "metadata": {},
   "outputs": [],
   "source": [
    "# Substituir missings pela média e mediana agrupada por id"
   ]
  },
  {
   "cell_type": "code",
   "execution_count": null,
   "id": "d30f3db4",
   "metadata": {},
   "outputs": [],
   "source": [
    "# Ver o total de missings de uma coluna"
   ]
  },
  {
   "cell_type": "code",
   "execution_count": null,
   "id": "83f46741",
   "metadata": {},
   "outputs": [],
   "source": [
    "# Excluir missings das colunas var1 ou var2 ou var3 e gerar um novo dataframe"
   ]
  },
  {
   "cell_type": "code",
   "execution_count": null,
   "id": "4410b23c",
   "metadata": {},
   "outputs": [],
   "source": [
    "# Substituir de missings de uma coluna por valores de outra coluna"
   ]
  },
  {
   "cell_type": "code",
   "execution_count": null,
   "id": "c228f1d3",
   "metadata": {},
   "outputs": [],
   "source": [
    "# Substituir missings por zero\n",
    "df['var'] = df['var'].fillna(0)"
   ]
  },
  {
   "cell_type": "code",
   "execution_count": null,
   "id": "730f25c5",
   "metadata": {},
   "outputs": [],
   "source": [
    "# Remove colunas com mais de 50% NA"
   ]
  },
  {
   "cell_type": "code",
   "execution_count": null,
   "id": "493b28c3",
   "metadata": {},
   "outputs": [],
   "source": [
    "# Remove linhas com mais de 50% NA"
   ]
  },
  {
   "cell_type": "code",
   "execution_count": null,
   "id": "87ead7a5",
   "metadata": {},
   "outputs": [],
   "source": [
    "# Remove colunas e linhas com mais de 50% NA"
   ]
  },
  {
   "cell_type": "code",
   "execution_count": null,
   "id": "76370aef",
   "metadata": {},
   "outputs": [],
   "source": [
    "# Plotar relatório de missings\n",
    "from dataprep.eda import plot_missing\n",
    "plot_missing(df)"
   ]
  },
  {
   "cell_type": "markdown",
   "id": "c6894d36",
   "metadata": {},
   "source": [
    "## Outliers\n",
    "\n",
    "**Método HAMPEL**                         \n",
    "Detalhes:\n",
    "O limite inferior é median_value - 3mad_value. Todos os valores abaixo são considerados outliers.\n",
    "O limite superior é median_value + 3mad_value. Todos os valores acima são considerados outliers.\n",
    "O parâmetro chamado k_mad_value e seu valor padrão é 3. O valor k_mad_value pode ser modificado.\n",
    "Quanto mais alto o valor k_mad_value, mais altos são os limites.\n",
    "\n",
    "Podemos acessar a função interna usada prep_outlierspara calcular o limite de Hampel:\n",
    "\n",
    "\n",
    "**Método de TURKEY**                         \n",
    "Detalhes:\n",
    "Este método marca outliers usando os quartis, Q1, Q2 e Q3, onde Q1 é indescritível no 25º percentil, Q2 no 50º percentil (também conhecido como mediana) e Q3 é o 75º percentil.\n",
    "\n",
    "O intervalo interquartil (IQR) é calculado fazendo Q3 - Q1.\n",
    "\n",
    "O limite inferior é: Q1 - 1,5 * IQR. Todos os valores abaixo são considerados outliers. O limite superior é: Q1 + 1,5 * IQR. Todos os valores acima são considerados outliers.\n",
    "\n",
    "O valor 3 é para detectar o limite “extremo”. Este método vem do gráfico de caixa, onde o multiplicador é 1,5. Isso faz com que muitos mais valores sejam marcados como outliers."
   ]
  },
  {
   "cell_type": "code",
   "execution_count": null,
   "id": "a3769ce0",
   "metadata": {},
   "outputs": [],
   "source": [
    "# Gerar um scater ploter\n",
    "Grafico = px.scatter_matrix(df, dimensions=['var1', 'var2', 'var3'], color ='var4')\n",
    "Grafico.show()"
   ]
  },
  {
   "cell_type": "code",
   "execution_count": null,
   "id": "5d972f40",
   "metadata": {},
   "outputs": [],
   "source": [
    "# Plotar boxplot\n",
    "sns.boxplot(data=df, x=\"var\")\n",
    "plt.show()"
   ]
  },
  {
   "cell_type": "code",
   "execution_count": null,
   "id": "51ce15de",
   "metadata": {},
   "outputs": [],
   "source": [
    "# Identificando os outliers com o Zscore\n",
    "x = stats.zscore(df['var'])\n",
    "print(\"outliers\", len(df[np.abs(x)>3]))"
   ]
  },
  {
   "cell_type": "code",
   "execution_count": null,
   "id": "bb616d83",
   "metadata": {},
   "outputs": [],
   "source": [
    "# Identificando e plotando outliers"
   ]
  },
  {
   "cell_type": "code",
   "execution_count": null,
   "id": "90cf8750",
   "metadata": {},
   "outputs": [],
   "source": [
    "# Histograma\n",
    "plt.hist(x = df['var']);"
   ]
  },
  {
   "cell_type": "code",
   "execution_count": null,
   "id": "8fd57dbd",
   "metadata": {},
   "outputs": [],
   "source": [
    "# Histograma \n",
    "plt.hist(x = df['var_1']);"
   ]
  },
  {
   "cell_type": "code",
   "execution_count": null,
   "id": "f5d370f9",
   "metadata": {},
   "outputs": [],
   "source": [
    "# Gráfico de barras rápido"
   ]
  },
  {
   "cell_type": "code",
   "execution_count": null,
   "id": "cd724544",
   "metadata": {},
   "outputs": [],
   "source": [
    "# Gráfico de densidade"
   ]
  },
  {
   "cell_type": "code",
   "execution_count": null,
   "id": "deb011a6",
   "metadata": {},
   "outputs": [],
   "source": [
    "# Identificar outliers"
   ]
  },
  {
   "cell_type": "code",
   "execution_count": null,
   "id": "feee08b5",
   "metadata": {},
   "outputs": [],
   "source": [
    "# Plotar diversos tipos de gráficos de forma rápida (Stats, Histogram, KDE Plot, Normal Q-Q Plot, Box Plot, Value Table)\n",
    "from dataprep.eda import plot\n",
    "plot(df, \"var\")"
   ]
  },
  {
   "cell_type": "markdown",
   "id": "233307e8",
   "metadata": {},
   "source": [
    "## Estatísticas"
   ]
  },
  {
   "cell_type": "code",
   "execution_count": null,
   "id": "56532ab4",
   "metadata": {},
   "outputs": [],
   "source": [
    "# Descritivas completas com quartis, quantis, kurtosis e etc."
   ]
  },
  {
   "cell_type": "code",
   "execution_count": null,
   "id": "bbe5b8e9",
   "metadata": {
    "pycharm": {
     "name": "#%%\n"
    }
   },
   "outputs": [],
   "source": [
    "# Estatisticas descritivas para 30 variaveis\n",
    "summary = df.describe().transpose()\n",
    "summary.head(30)"
   ]
  },
  {
   "cell_type": "code",
   "execution_count": null,
   "id": "ba72fad0",
   "metadata": {},
   "outputs": [],
   "source": [
    "# Estatísticas descritivas por grupos"
   ]
  },
  {
   "cell_type": "code",
   "execution_count": null,
   "id": "31eb7005",
   "metadata": {},
   "outputs": [],
   "source": [
    "# Obter o somatório de uma coluna\n",
    "Total_Var1 = df.Var1.sum()\n",
    "Total_Var1"
   ]
  },
  {
   "cell_type": "code",
   "execution_count": null,
   "id": "e4f34790",
   "metadata": {},
   "outputs": [],
   "source": [
    "# Exportar descritivas"
   ]
  },
  {
   "cell_type": "code",
   "execution_count": null,
   "id": "4a0ae9a8",
   "metadata": {},
   "outputs": [],
   "source": [
    "# Matriz de correlção\n",
    "corr = df.corr()\n",
    "corr.head()"
   ]
  },
  {
   "cell_type": "code",
   "execution_count": null,
   "id": "ec0b50ca",
   "metadata": {},
   "outputs": [],
   "source": [
    "# Plotar matriz de correlação"
   ]
  },
  {
   "cell_type": "code",
   "execution_count": null,
   "id": "7f094493",
   "metadata": {},
   "outputs": [],
   "source": [
    "# Plotar matriz de correlação par a par"
   ]
  },
  {
   "cell_type": "code",
   "execution_count": null,
   "id": "e770a314",
   "metadata": {},
   "outputs": [],
   "source": [
    "# Exportar matriz de correlação"
   ]
  },
  {
   "cell_type": "code",
   "execution_count": null,
   "id": "7d087c0c",
   "metadata": {},
   "outputs": [],
   "source": [
    "# Gerar correlalograma\n",
    "import seaborn as sns\n",
    "\n",
    "corr_df = df.corr(method='pearson')\n",
    "plt.figure(figsize=(16, 16))\n",
    "sns.heatmap(corr_df, annot=True)\n",
    "plt.show()"
   ]
  },
  {
   "cell_type": "code",
   "execution_count": null,
   "id": "423413bc",
   "metadata": {},
   "outputs": [],
   "source": [
    "# Plotar correlações \n",
    "from dataprep.eda import plot_correlation\n",
    "\n",
    "plot_correlation(df, \"var\")  "
   ]
  },
  {
   "cell_type": "code",
   "execution_count": null,
   "id": "5122b98a",
   "metadata": {},
   "outputs": [],
   "source": [
    "# Proporções"
   ]
  },
  {
   "cell_type": "code",
   "execution_count": null,
   "id": "3669f180",
   "metadata": {},
   "outputs": [],
   "source": [
    "# Tabular dados de uma variável binária \n",
    "df.value_counts('var')\n",
    "\n",
    "#ou\n",
    "df[['var']].apply(pd.Series.value_counts)\n"
   ]
  },
  {
   "cell_type": "code",
   "execution_count": null,
   "id": "200d54c1",
   "metadata": {},
   "outputs": [],
   "source": [
    "# tabular interação entre duas ou mais colunas\n",
    "df.value_counts([\"var_1\", \"var_2\"])"
   ]
  },
  {
   "cell_type": "code",
   "execution_count": null,
   "id": "9c9ca058",
   "metadata": {},
   "outputs": [],
   "source": [
    "# Tabular dados condicionado a uma coluna (ex: Tratamento)\n",
    "df2 = df.groupby(['var', 'D_Tratamento']).size().unstack(fill_value=0)\n",
    "df2"
   ]
  },
  {
   "cell_type": "code",
   "execution_count": null,
   "id": "3a7eaa42",
   "metadata": {},
   "outputs": [],
   "source": [
    "# Tabular dados agrupado por uma coluna (ex: tratamento)\n",
    "df.groupby(by='D_Tratamento').size()"
   ]
  },
  {
   "cell_type": "code",
   "execution_count": null,
   "id": "2c7d78fa",
   "metadata": {},
   "outputs": [],
   "source": [
    "# Tabular varias dummies \n",
    "df[['var_1', 'var_2', 'var_3', 'var_4', 'var_5']].apply(pd.Series.value_counts)"
   ]
  },
  {
   "cell_type": "code",
   "execution_count": null,
   "id": "cf8ccc36",
   "metadata": {},
   "outputs": [],
   "source": [
    "# Grafico para variáveis categorica\n",
    "sns.set(rc={'figure.figsize':(5,3)}) # setar tamanho do plot\n",
    "sns.countplot(x='var', data=df)"
   ]
  },
  {
   "cell_type": "code",
   "execution_count": null,
   "id": "87bc1889",
   "metadata": {},
   "outputs": [],
   "source": [
    "# Plotar diversas variáveis dummies\n",
    "sns.set(rc={'figure.figsize':(10,3)}) # setar tamanho do plot\n",
    "fig, ax =plt.subplots(1, 2)\n",
    "sns.countplot(x='var_1', data=df, ax=ax[0])\n",
    "sns.countplot(x='var_2',   data=df, ax=ax[1])"
   ]
  },
  {
   "cell_type": "code",
   "execution_count": null,
   "id": "1c6af3ee",
   "metadata": {},
   "outputs": [],
   "source": [
    "# Grafico para variavel categorica ordenada\n",
    "sns.set(rc={'figure.figsize':(25,3)}) # setar tamanho do plot\n",
    "sns.countplot(x = 'cat',\n",
    "              data = df,\n",
    "              order = df['cat'].value_counts().index)"
   ]
  },
  {
   "cell_type": "code",
   "execution_count": null,
   "id": "9f0e7c57",
   "metadata": {},
   "outputs": [],
   "source": [
    "# Ver correlação de todas colunas em relação a uma especifica"
   ]
  },
  {
   "cell_type": "markdown",
   "id": "f3436d54",
   "metadata": {},
   "source": [
    "## Regressões Básicas Econometria"
   ]
  },
  {
   "cell_type": "code",
   "execution_count": null,
   "id": "e33d38d0",
   "metadata": {},
   "outputs": [],
   "source": [
    "# Pooled ols estimador"
   ]
  },
  {
   "cell_type": "code",
   "execution_count": null,
   "id": "6fafd1db",
   "metadata": {},
   "outputs": [],
   "source": [
    "# Between estimador"
   ]
  },
  {
   "cell_type": "code",
   "execution_count": null,
   "id": "b1d0e1c1",
   "metadata": {},
   "outputs": [],
   "source": [
    "# First differences estimador"
   ]
  },
  {
   "cell_type": "code",
   "execution_count": null,
   "id": "f37788ae",
   "metadata": {},
   "outputs": [],
   "source": [
    "# Fixed effects ou within estimador"
   ]
  },
  {
   "cell_type": "code",
   "execution_count": null,
   "id": "22475c65",
   "metadata": {},
   "outputs": [],
   "source": [
    "# Random effects estimador"
   ]
  },
  {
   "cell_type": "code",
   "execution_count": null,
   "id": "528209c2",
   "metadata": {},
   "outputs": [],
   "source": [
    "# LM test for random effects versus pooled"
   ]
  },
  {
   "cell_type": "code",
   "execution_count": null,
   "id": "815cffef",
   "metadata": {},
   "outputs": [],
   "source": [
    "# LM test for fixed effects versus pooled"
   ]
  },
  {
   "cell_type": "code",
   "execution_count": null,
   "id": "83bf34b5",
   "metadata": {},
   "outputs": [],
   "source": [
    "# Hausman test for fixed vs random effects model"
   ]
  },
  {
   "cell_type": "markdown",
   "id": "6ee07d32",
   "metadata": {},
   "source": [
    "## Strings"
   ]
  },
  {
   "cell_type": "code",
   "execution_count": null,
   "id": "a605fbab",
   "metadata": {},
   "outputs": [],
   "source": [
    "# Substituir caracteres "
   ]
  },
  {
   "cell_type": "code",
   "execution_count": null,
   "id": "bb69b545",
   "metadata": {},
   "outputs": [],
   "source": [
    "# Remover caracteres específicos"
   ]
  },
  {
   "cell_type": "code",
   "execution_count": null,
   "id": "31b8d4c8",
   "metadata": {},
   "outputs": [],
   "source": [
    "# Remover linhas que contém 4 caracteres ou mais caracteres"
   ]
  },
  {
   "cell_type": "code",
   "execution_count": null,
   "id": "78866bbf",
   "metadata": {},
   "outputs": [],
   "source": [
    "# Padronizando strings retirando apenas alguns caracteres"
   ]
  },
  {
   "cell_type": "code",
   "execution_count": null,
   "id": "3ddeed9b",
   "metadata": {},
   "outputs": [],
   "source": [
    "# Remove todos caracteres não-alfanuméricos"
   ]
  },
  {
   "cell_type": "code",
   "execution_count": null,
   "id": "ccf6ec12",
   "metadata": {},
   "outputs": [],
   "source": [
    "# Remove todos caracteres não-numéricos"
   ]
  },
  {
   "cell_type": "code",
   "execution_count": null,
   "id": "117165ab",
   "metadata": {},
   "outputs": [],
   "source": [
    "# Remove todos caracteres numéricos"
   ]
  },
  {
   "cell_type": "code",
   "execution_count": null,
   "id": "cf3c0d46",
   "metadata": {},
   "outputs": [],
   "source": [
    "# Remove caracteres especiais"
   ]
  },
  {
   "cell_type": "code",
   "execution_count": null,
   "id": "d2a7c76e",
   "metadata": {},
   "outputs": [],
   "source": [
    "# Converte letras minusculas para maiusculas"
   ]
  },
  {
   "cell_type": "code",
   "execution_count": null,
   "id": "0b97a705",
   "metadata": {},
   "outputs": [],
   "source": [
    "# Remover linhas com a expressão exata"
   ]
  },
  {
   "cell_type": "code",
   "execution_count": null,
   "id": "8d2450f0",
   "metadata": {},
   "outputs": [],
   "source": [
    "# Remover os espaços iniciais e finais"
   ]
  },
  {
   "cell_type": "code",
   "execution_count": null,
   "id": "619457f4",
   "metadata": {},
   "outputs": [],
   "source": [
    "# Deixar somente os dois primeiros caracteres"
   ]
  },
  {
   "cell_type": "code",
   "execution_count": null,
   "id": "5cdcbc97",
   "metadata": {},
   "outputs": [],
   "source": [
    "# Replace (substituir) string\n",
    "df.loc[df.var_1 == 'valor_antigo', 'var_1'] = 'valor_novo'\n",
    "\n",
    "# ou \n",
    "df['var'] = df['var'].str.replace('valor_antigo', 'valor_novo')\n"
   ]
  },
  {
   "cell_type": "code",
   "execution_count": null,
   "id": "b9f21659",
   "metadata": {},
   "outputs": [],
   "source": [
    "# Deixar somente alguns dígitos"
   ]
  },
  {
   "cell_type": "code",
   "execution_count": null,
   "id": "7daa2471",
   "metadata": {},
   "outputs": [],
   "source": [
    "# Dividir coluna em várias\n",
    "def split_string(text):\n",
    "    return text.split(\" \")\n",
    "texto = \"Esta função será bastante útil para separar grandes volumes de dados.\""
   ]
  },
  {
   "cell_type": "code",
   "execution_count": null,
   "id": "a6fee0dc",
   "metadata": {},
   "outputs": [],
   "source": [
    "# Comparar duas strings e gerar probabilidades baseado na semelhança"
   ]
  },
  {
   "cell_type": "code",
   "execution_count": null,
   "id": "c74b5ceb",
   "metadata": {},
   "outputs": [],
   "source": [
    "# Como fazer um sorteio aleatório\n",
    "import random\n",
    "random.choice(['Maça', 'Banana', 'Laranja'])"
   ]
  },
  {
   "cell_type": "markdown",
   "id": "e34686dc",
   "metadata": {},
   "source": [
    "## Merge, Join, Append"
   ]
  },
  {
   "cell_type": "code",
   "execution_count": null,
   "id": "8b1acb3b",
   "metadata": {},
   "outputs": [],
   "source": [
    "# Append"
   ]
  },
  {
   "cell_type": "code",
   "execution_count": null,
   "id": "b5536a1f",
   "metadata": {},
   "outputs": [],
   "source": [
    "# Merge"
   ]
  },
  {
   "cell_type": "code",
   "execution_count": null,
   "id": "61557812",
   "metadata": {},
   "outputs": [],
   "source": [
    "# Left_join"
   ]
  },
  {
   "cell_type": "code",
   "execution_count": null,
   "id": "e7e54d58",
   "metadata": {},
   "outputs": [],
   "source": [
    "# outros joins"
   ]
  },
  {
   "cell_type": "markdown",
   "id": "81ab841a",
   "metadata": {},
   "source": [
    "## Dummy (One Hot Encode)"
   ]
  },
  {
   "cell_type": "code",
   "execution_count": null,
   "id": "1a86f3e0",
   "metadata": {},
   "outputs": [],
   "source": [
    "# Gerar dummy\n",
    "df['Dummy'] = df['var_string'].map({\"categoria_1\":0, \"categoria_2\":1})"
   ]
  },
  {
   "cell_type": "code",
   "execution_count": null,
   "id": "81089b91-e296-4407-8d31-e0892958f688",
   "metadata": {},
   "outputs": [],
   "source": [
    "# Gerar condicional a mais de uma coluna\n",
    "df['D_var'] = 0\n",
    "df.loc[df.var1 != df.var2, 'D_var'] = 1"
   ]
  },
  {
   "cell_type": "code",
   "execution_count": null,
   "id": "388a8760",
   "metadata": {},
   "outputs": [],
   "source": [
    "# Gerar dummy com loop\n",
    "# Gerar lista com os nomes das colunas\n",
    "col_names =['var1' , 'var2' , 'var3']\n",
    "\n",
    "# Gerar dummy\n",
    "df['D_var'] = 0\n",
    "for i in list(col_names):\n",
    "    df.loc[df[i] == 1, 'D_var'] = 1\n",
    "\n",
    "# Tabulas dummy\n",
    "df.value_counts('D_var')"
   ]
  },
  {
   "cell_type": "code",
   "execution_count": null,
   "id": "21c504a9",
   "metadata": {},
   "outputs": [],
   "source": [
    "# Gerar dummie com diversas condições"
   ]
  },
  {
   "cell_type": "code",
   "execution_count": null,
   "id": "ec53e569",
   "metadata": {},
   "outputs": [],
   "source": [
    "# Gerar dummies de forma rapida\n",
    "df2 = pd.get_dummies(df[[\"var_categorica\"]])\n",
    "\n",
    "# Visualizar\n",
    "df2 = pd.concat([df[\"var_categorica\"], df2], axis=1) \n",
    "df2.read()"
   ]
  },
  {
   "cell_type": "code",
   "execution_count": null,
   "id": "2f2b494e",
   "metadata": {},
   "outputs": [],
   "source": [
    "# Codificar variáveis categóricas"
   ]
  },
  {
   "cell_type": "code",
   "execution_count": null,
   "id": "b51ef6a8",
   "metadata": {},
   "outputs": [],
   "source": [
    "# Gerar dummies a partir de uma variável categórica\n",
    "df['D_var'] = 0\n",
    "df.loc[(df['var1'] >= 1) & (df['var2'] <3) , 'D_var'] = 1"
   ]
  },
  {
   "cell_type": "code",
   "execution_count": null,
   "id": "40b29b98",
   "metadata": {},
   "outputs": [],
   "source": [
    "# Transformar colunas em dummies"
   ]
  },
  {
   "cell_type": "markdown",
   "id": "a1a7a5ed",
   "metadata": {},
   "source": [
    "## Tarefas Prontas"
   ]
  },
  {
   "cell_type": "code",
   "execution_count": null,
   "id": "ab91565a",
   "metadata": {},
   "outputs": [],
   "source": [
    "# Trabalhar com valores monetários utilizando R$\n",
    "\n",
    "import locale\n",
    "\n",
    "# utilize apenas uma destas configurações abaixo\n",
    "locale.setlocale(locale.LC_ALL, 'pt_BR.UTF-8')    # configura todo o locale para pt_BR\n",
    "locale.setlocale(locale.LC_MONETARY, 'pt_BR.UTF-8')     # configura apenas a parte monetária\n",
    "\n",
    "valor = 1234.56\n",
    "\n",
    "locale.currency(valor)\n",
    "# 'R$ 1234,56'\n",
    "\n",
    "locale.currency(valor, symbol=False, grouping=True)\n",
    "# 1.234,56\n",
    "\n",
    "locale.currency(valor, symbol=True, grouping=True, international=False)\n",
    "# R$ 1.234,56\n",
    "\n",
    "locale.currency(valor, symbol=True, grouping=True, international=True)\n",
    "# BRL  1.234,56"
   ]
  },
  {
   "cell_type": "code",
   "execution_count": null,
   "id": "68aad0e4",
   "metadata": {},
   "outputs": [],
   "source": [
    "# Gerar codigo UF a partir do codigo IBGE do município\n",
    "df['COD_UF'] = df['COD_MUN'].astype(str).str[:2].astype(int)"
   ]
  },
  {
   "cell_type": "code",
   "execution_count": null,
   "id": "902b672b",
   "metadata": {},
   "outputs": [],
   "source": [
    "# Dividir a base em treino e teste\n",
    "\n",
    "# Importando a função train_test_split\n",
    "from sklearn.model_selection import train_test_split\n",
    "\n",
    "# Criar as bases de treinamento 75% e teste 25%\n",
    "X_treinamento, X_teste, y_treinamento, y_teste = train_test_split(X_df, y_df, test_size=0.25, random_state=0)"
   ]
  },
  {
   "cell_type": "code",
   "execution_count": null,
   "id": "7b896e6a",
   "metadata": {},
   "outputs": [],
   "source": [
    "# Gerar relatório completo de forma automatizada\n",
    "#!pip install -U dataprep\n",
    "\n",
    "# Configurações para o pacote dataprep utilizar o máximo de memoria e processador\n",
    "import logging\n",
    "logging.basicConfig(level=logging.INFO)\n",
    "logging.getLogger('numexpr').setLevel(logging.WARNING)\n",
    "\n",
    "# Gerar relatório dos dados\n",
    "from dataprep.eda import create_report\n",
    "create_report(df)"
   ]
  },
  {
   "cell_type": "code",
   "execution_count": null,
   "id": "18a90677",
   "metadata": {},
   "outputs": [],
   "source": [
    "# Gerar relatório geral\n",
    "#!pip install pandas_profiling\n",
    "import pandas_profiling\n",
    "pandas_profiling.ProfileReport(df)"
   ]
  },
  {
   "cell_type": "code",
   "execution_count": null,
   "id": "54b5b9a0",
   "metadata": {},
   "outputs": [],
   "source": [
    "# Desabilitar notação científica"
   ]
  },
  {
   "cell_type": "code",
   "execution_count": null,
   "id": "cd2169e4",
   "metadata": {},
   "outputs": [],
   "source": [
    "# Apagar um arquivo salvo em uma pasta no computador"
   ]
  },
  {
   "cell_type": "code",
   "execution_count": null,
   "id": "d04fc1af",
   "metadata": {},
   "outputs": [],
   "source": [
    "# Verificar a quantidade de valores nulos\n",
    "df['var1'].value_counts(dropna=False, sort=True)"
   ]
  },
  {
   "cell_type": "code",
   "execution_count": null,
   "id": "27c0386a",
   "metadata": {},
   "outputs": [],
   "source": [
    "# Ver se existe valores duplicados\n",
    "df.duplicated().sum()"
   ]
  },
  {
   "cell_type": "code",
   "execution_count": null,
   "id": "1d2df7dc",
   "metadata": {},
   "outputs": [],
   "source": [
    "# Remover observações duplicadas\n",
    "df =df.drop_duplicates()"
   ]
  },
  {
   "cell_type": "code",
   "execution_count": null,
   "id": "37a7d4a2",
   "metadata": {},
   "outputs": [],
   "source": [
    "# Remover duplicados baseado em duas variáveis"
   ]
  },
  {
   "cell_type": "code",
   "execution_count": null,
   "id": "929ad6ca",
   "metadata": {},
   "outputs": [],
   "source": [
    "# Obter o valor mínimo de duas colunas"
   ]
  },
  {
   "cell_type": "code",
   "execution_count": null,
   "id": "46f83f6c",
   "metadata": {},
   "outputs": [],
   "source": [
    "# Padronização de escala das colunas do df               \n",
    "#Ver mais detalhes em : https://medium.com/data-hackers/normalizar-ou-padronizar-as-vari%C3%A1veis-3b619876ccc9\n",
    "\n",
    "from sklearn.preprocessing import StandardScaler\n",
    "scaler_credit = StandardScaler()\n",
    "\n",
    "# Aplicando a função StandardScaler\n",
    "df_2 = scaler_credit.fit_transform(df)\n",
    "df_2 = pd.DataFrame(df_2)"
   ]
  },
  {
   "cell_type": "code",
   "execution_count": null,
   "id": "4c67601b",
   "metadata": {},
   "outputs": [],
   "source": [
    "# Normalização de dados (deixar em uma escala entr 0 e 1)\n",
    "import pandas as pd\n",
    "from sklearn import preprocessing\n",
    "\n",
    "x = df.values #returns a numpy array\n",
    "min_max_scaler = preprocessing.MinMaxScaler()\n",
    "x_scaled = min_max_scaler.fit_transform(x)\n",
    "df = pd.DataFrame(x_scaled)"
   ]
  },
  {
   "cell_type": "code",
   "execution_count": null,
   "id": "510ec0b8",
   "metadata": {},
   "outputs": [],
   "source": [
    "# min-max normalization:\n",
    "\n",
    "normalized_df=(df-df.min())/(df.max()-df.min())\n",
    "\n",
    "from sklearn.preprocessing import minmax_scale\n",
    "X_ENEM = minmax_scale(X_ENEM, feature_range=(0,1), axis=0)\n",
    "\n",
    "# standardize \n",
    "normalized_df=(df-df.mean())/df.std()"
   ]
  },
  {
   "cell_type": "code",
   "execution_count": null,
   "id": "d86598e1",
   "metadata": {},
   "outputs": [],
   "source": [
    "# Normalizar apenas algumas colunas\n",
    "from sklearn.preprocessing import minmax_scale\n",
    "df_2[['var_1', 'var_2']] = minmax_scale(df[['var_1', 'var_2']])"
   ]
  },
  {
   "cell_type": "code",
   "execution_count": null,
   "id": "9cd31f0f",
   "metadata": {},
   "outputs": [],
   "source": [
    "# Gerar um lag e lead de uma variável observando os grupos"
   ]
  },
  {
   "cell_type": "code",
   "execution_count": null,
   "id": "3a40a58f",
   "metadata": {},
   "outputs": [],
   "source": [
    "# Gerar (id) identificador a partir de uma ou mais colunas"
   ]
  },
  {
   "cell_type": "code",
   "execution_count": null,
   "id": "6a0fb57d",
   "metadata": {},
   "outputs": [],
   "source": [
    "# Obter código IBGE das UF a partir do código de municípios"
   ]
  },
  {
   "cell_type": "code",
   "execution_count": null,
   "id": "39444e64",
   "metadata": {},
   "outputs": [],
   "source": [
    "# Adicionar os zeros a esquerda do CPF convertendo para string "
   ]
  },
  {
   "cell_type": "code",
   "execution_count": null,
   "id": "938116c1",
   "metadata": {},
   "outputs": [],
   "source": [
    "# Retirando ponto e traço de CPF"
   ]
  },
  {
   "cell_type": "code",
   "execution_count": null,
   "id": "6dfa3852",
   "metadata": {},
   "outputs": [],
   "source": [
    "# Gerar gráfico de uma variável categórica\n",
    "\n",
    "# Setando configuração de fonte e tamanho da imagem\n",
    "sns.set_style( \"whitegrid\", {'font.family':'serif', 'font.serif':'Times New Roman'})\n",
    "plt.figure(figsize=(10,5))\n",
    "\n",
    "# Gerar gráfico com countplot\n",
    "ax =sns.countplot(x='var', \n",
    "                  data=df , \n",
    "                  palette=\"mako\")\n",
    "\n",
    "# Configurar títulos\n",
    "plt.title('Titulo' , fontsize = 20)\n",
    "plt.xlabel('Titulo eixo x' , fontsize = 20)\n",
    "plt.ylabel('Titulo eixo y' , fontsize = 20)\n",
    "\n",
    "# Adicionar labels no gráfico\n",
    "for p in ax.patches:\n",
    "        ax.annotate('{:.0f}'.format(p.get_height()), (p.get_x()+0.25, p.get_height()+100),fontsize=15)\n",
    "\n",
    "# Configurar tamanho dos valores apresentados\n",
    "plt.yticks(size=15)\n",
    "plt.xticks(size=15)\n",
    "plt.show()\n",
    "\n",
    "#salvar\n",
    "fig = ax.get_figure()\n",
    "fig.savefig(\"nome do gráfico.png\")"
   ]
  },
  {
   "cell_type": "code",
   "execution_count": null,
   "id": "e42868d4",
   "metadata": {},
   "outputs": [],
   "source": [
    "# Gerar gráfico de pizza explodido\n",
    "\n",
    "# Tabular a variável categorica e pegar os calores de cada categoria\n",
    "# df.value_counts([\"var\"])\n",
    "\n",
    "# Setando cores, labels, valores e explosão\n",
    "colors = ['#3D6F94','#329BA3','#87D8B3']\n",
    "labels = 'cat_1', 'cat_2', 'cat_3'\n",
    "valores = [8932, 4815, 305]\n",
    "explode = (0.05, 0.05, 0.05)  # only \"explode\" the 2nd slice (i.e. 'Hogs')\n",
    "\n",
    "# Gerar Gráfico de Pizza\n",
    "fig1, ax1 = plt.subplots()\n",
    "ax1.pie(valores, \n",
    "        explode=explode, \n",
    "        radius = 1.25,\n",
    "        labels=labels, \n",
    "        labeldistance =1.1,\n",
    "        autopct='%1.2f%%',\n",
    "        shadow=True, \n",
    "        startangle=30, \n",
    "        colors=colors, \n",
    "        textprops={'color':\"black\", 'fontsize': 15})\n",
    "\n",
    "# Titulo do Gráfico\n",
    "plt.title('Titulo do gráfico', fontsize = 20)\n",
    "\n",
    "# Condifigurar e posicionar legenda\n",
    "ax1.legend(legend_labels, [\"cat_1 = 8.932\", \"cat_2 = 4.815\", \"cat_3 = 305\"], bbox_to_anchor=(1.7,0.3), loc='lower center')\n",
    "\n",
    "# Tamanho da fonte dos números\n",
    "import matplotlib as mpl\n",
    "\n",
    "# Plotar\n",
    "plt.show()\n",
    "\n",
    "#salvar\n",
    "fig = ax1.get_figure()\n",
    "fig.savefig(\"nome do gráfico.png\")"
   ]
  },
  {
   "cell_type": "code",
   "execution_count": null,
   "id": "a724a42a",
   "metadata": {},
   "outputs": [],
   "source": [
    "# plotar gráfico de barras na horizontal com legenda\n",
    "sns.set_style( \"whitegrid\", {'font.family':'serif', 'font.serif':'Times New Roman'})\n",
    "plt.figure(figsize=(15,15))\n",
    "ax =sns.countplot(y='nm_razao_social', \n",
    "                  hue='Infração2',\n",
    "                  data=df, \n",
    "                  palette=\"mako\",\n",
    "                  order=df.nm_razao_social.value_counts().iloc[:20].index)\n",
    "\n",
    "# Configurar legenda e posição\n",
    "legend_labels, _= ax.get_legend_handles_labels()\n",
    "ax.legend(legend_labels, ['Desmatamentos','Queimadas'], bbox_to_anchor=(1,0.5))\n",
    "\n",
    "# Titulos e tamanho das fontes\n",
    "plt.title('Infrações e Seguradoras', fontsize = 20)\n",
    "plt.xlabel('Infrações', fontsize = 15)\n",
    "plt.ylabel('Seguradoras', fontsize = 15)\n",
    "\n",
    "rects = ax.patches\n",
    "\n",
    "# Para cada barra: coloque um rótulo\n",
    "for rect in rects:\n",
    "    # Obtenha o posicionamento X e Y do rótulo de retângulo.\n",
    "    x_value = rect.get_width()\n",
    "    y_value = rect.get_y() + rect.get_height() / 2\n",
    "\n",
    "    # Número de pontos entre a barra e o rótulo. Mude ao seu gosto.\n",
    "    space = 5\n",
    "    # Alinhamento vertical para valores positivos\n",
    "    ha = 'left'\n",
    "\n",
    "    # Se o valor da barra for negativo: coloque o rótulo à esquerda da barra\n",
    "    if x_value < 0:\n",
    "        # Inverta o espaço para colocar o rótulo à esquerda\n",
    "        space *= -1\n",
    "        # Alinhar o rótulo horizontalmente à direita\n",
    "        ha = 'right'\n",
    "\n",
    "    # Use o valor X como rótulo e número de formato sem casas decimais\n",
    "    label = \"{:.0f}\".format(x_value)\n",
    "\n",
    "    # Create annotation\n",
    "    plt.annotate(\n",
    "        label,                      # Use `label` como label\n",
    "        (x_value, y_value),         # Coloque a etiqueta no final da barra\n",
    "        xytext=(space, 0),          # Mude o rótulo horizontalmente por `space`\n",
    "        textcoords=\"offset points\", # Interpretar `xytext` como deslocamento em pontos\n",
    "        va='center',                # Etiqueta centralizada verticalmente\n",
    "        ha=ha,                      # Alinhe o rótulo horizontalmente de maneira diferente para\n",
    "        fontsize=15)                # Tamanho da fonte   \n",
    "                                    \n",
    "\n",
    "# Fontes e tamanhos dos sticks\n",
    "plt.yticks(size=15)\n",
    "plt.xticks(size=12)\n",
    "plt.show()\n",
    "\n",
    "#salvar\n",
    "fig = ax.get_figure()\n",
    "fig.savefig(\"Infrações por seguradoras.png\")"
   ]
  },
  {
   "cell_type": "code",
   "execution_count": null,
   "id": "ce2b75b5",
   "metadata": {},
   "outputs": [],
   "source": [
    "# Plotar treemap\n",
    "import plotly.express as px\n",
    "import pandas as pd\n",
    "\n",
    "# Gerar df2 \n",
    "df2 = pd.DataFrame({'Queimadas':[196,35,19,16,10,11,8,5,4,1,1],\n",
    "                    'Seguradoras':[\"Brasilseg\", \"Mapfre\", \"Swiss Re\", \"Sancor\", \"Newe\", \"Tokio Marine\", \"Allianz\", \"Nobre\", \"FairFax\", \"Aliança do Brasil\", \"Essor\"] })\n",
    "\n",
    "\n",
    "# Gerar treemap\n",
    "fig = px.treemap(df2, path=[px.Constant(\"Seguradoras\"), 'Seguradoras'], values='Queimadas',\n",
    "                color_continuous_scale='RdBu',\n",
    "                color='Queimadas',\n",
    "                width=800, height=600)\n",
    "\n",
    "# Configurar layout\n",
    "fig.update_layout(margin = dict(t=1, l=1, r=1, b=1))\n",
    "fig.show()"
   ]
  },
  {
   "cell_type": "code",
   "execution_count": null,
   "id": "629e0f58",
   "metadata": {},
   "outputs": [],
   "source": [
    "# Gerar treemap com duas categorias\n",
    "\n",
    "# Gerar dataframe\n",
    "df2 = pd.DataFrame({'Infrações':[3217, 414, 362, 196, 171, 139, 130, 92, 85, 42, 39, 38, 35, 33, 29, 19, 16, 13, 11, 10, 10, 8, 5 , 4 , 1, 1],\n",
    "                    'Seguradoras':[\"Brasilseg\", \"Mapfre\", \"Swiss Re\", \"Brasilseg\", \"Essor\", \"Nobre\", \"Allianz\", \"FairFax\", \"Sancor\", \n",
    "                                   \"Tokio Marine\", \"Too\", \"Aliança do Brasil\", \"Mapfre\", \"Newe\", \"Porto Seguro\", \"Swiss Re\", \"Sancor\", \"Excelsior\", \n",
    "                                   \"Sompo\", \"Newe\", \"Tokio Marine\", \"Allianz\", \"Nobre\", \"FairFax\", \"Aliança do Brasil\", \"Essor\"],\n",
    "                    'Tipo_infra':['Desmatamentos', 'Desmatamentos','Desmatamentos','Queimadas','Desmatamentos','Desmatamentos','Desmatamentos',\n",
    "                                'Desmatamentos','Desmatamentos','Desmatamentos','Desmatamentos','Desmatamentos','Queimadas','Desmatamentos','Desmatamentos',\n",
    "                                'Queimadas','Queimadas','Desmatamentos','Desmatamentos','Queimadas','Queimadas','Queimadas','Queimadas','Queimadas','Queimadas','Queimadas']})\n",
    "\n",
    "df2\n",
    "\n",
    "import plotly.express as px\n",
    "\n",
    "d = {'count': [1,1,1,2,2,3,3,3,4], \n",
    "     'name': ['bob','bob','bob','shelby','shelby','jordan','jordan','jordan','jeff'],\n",
    "     'type': ['type1','type2','type4','type1','type6','type5','type8','type2',None],\n",
    "     'salary':[1000,2000,3000,10000,15000,30000,100000,50000,25000]}\n",
    "df = pd.DataFrame(data=d)\n",
    "\n",
    "# group data and aggregate\n",
    "df_plot = df2.groupby(['Seguradoras','Tipo_infra'])[['Infrações']].sum().reset_index()\n",
    "df_plot.sort_values(by=['Seguradoras','Tipo_infra'],inplace=True)\n",
    "\n",
    "# plot treemap\n",
    "fig = px.treemap(df_plot,\n",
    "                 values='Infrações',\n",
    "                 color='Infrações',\n",
    "                 color_continuous_scale='RdBu',\n",
    "                 path=['Seguradoras','Tipo_infra'],\n",
    "                 width=800, height=600)\n",
    "\n",
    "# fig.data[0].textinfo = 'label+value+percent parent'\n",
    "percents = (100*df2.Infrações / sum(df2.Infrações)).tolist()\n",
    "Infrações = df2.Infrações.tolist()\n",
    "\n",
    "## store multiple lists of data in customdata\n",
    "fig.data[0].customdata = np.column_stack([Infrações])\n",
    "fig.data[0].texttemplate = \"%{label} = %{value}<br>Queimadas: = %{customdata[0]}\"\n",
    "fig.show()"
   ]
  },
  {
   "cell_type": "markdown",
   "id": "29e881a5",
   "metadata": {},
   "source": [
    "Gerar classes etárias\n",
    "\n",
    "df$Idade_grp <- df$Idade\n",
    "df$Idade_grp <- ifelse((df$Idade>=1  & df$Idade<=10) , 'Idade_01_20',df$Idade_grp)\n",
    "df$Idade_grp <- ifelse((df$Idade>=10 & df$Idade<=20) , 'Idade_10_20',df$Idade_grp)\n",
    "df$Idade_grp <- ifelse((df$Idade>=21 & df$Idade<=30) , 'idade_21_30',df$Idade_grp)\n",
    "df$Idade_grp <- ifelse((df$Idade>=31 & df$Idade<=40) , 'idade_31_40',df$Idade_grp)\n",
    "df$Idade_grp <- ifelse((df$Idade>=41 & df$Idade<=50) , 'idade_41_50',df$Idade_grp)\n",
    "df$Idade_grp <- ifelse((df$Idade>=51 & df$Idade<=60) , 'idade_51_60',df$Idade_grp)\n",
    "df$Idade_grp <- ifelse((df$Idade>=61 & df$Idade<=70) , 'idade_61_70',df$Idade_grp)\n",
    "df$Idade_grp <- ifelse((df$Idade>=71) , 'idade_71_mais',df$Idade_grp)\n",
    "df <- dummy_cols(df, select_columns = \"Idade_grp\")"
   ]
  },
  {
   "cell_type": "code",
   "execution_count": null,
   "id": "74b9790c",
   "metadata": {},
   "outputs": [],
   "source": [
    "# Balanceando classes em modelos de Machine Learning (Removendo observações da classe majoritária)\n",
    "import seaborn as sns\n",
    "import matplotlib.pyplot as plt\n",
    "\n",
    "# Plotar a distribuição das classes para ver se existe desbalanceamento\n",
    "sns.displot(df, X=\"var_1\", hue=\"var_1\")\n",
    "plt.show\n",
    "\n",
    "# separar as classes desbalanceadas\n",
    "classe_maior = df[df['var_1']== 'classe maior']\n",
    "classe_menor = df[df['var_1']== 'classe menor']\n",
    "\n",
    "# Printar os comprimentos das classes\n",
    "print(\"classe maior\", len(classe_maior))\n",
    "print(\"classe menor\", len(classe_menor))\n",
    "\n",
    "# Equilibrando o tamanho de forma aleatória\n",
    "nova_classe_menor = classe_menor.sample(len(classe_maior))\n",
    "\n",
    "# Unindo os dados\n",
    "novo_df = pd.concat([nova_classe_menor, classe_maior],  axis=0)\n",
    "\n",
    "# Plotar a distribuição das classes para ver se existe desbalanceamento\n",
    "sns.displot(df, X=\"var_1\", hue=\"var_1\")\n",
    "plt.show"
   ]
  },
  {
   "cell_type": "code",
   "execution_count": null,
   "id": "35b11912",
   "metadata": {},
   "outputs": [],
   "source": [
    "# Remover acentos"
   ]
  },
  {
   "cell_type": "code",
   "execution_count": null,
   "id": "23b2de3b",
   "metadata": {},
   "outputs": [],
   "source": [
    "# Deflacionar variáveis monetárias (deflatebr)"
   ]
  },
  {
   "cell_type": "code",
   "execution_count": null,
   "id": "bb2c00b2",
   "metadata": {},
   "outputs": [],
   "source": [
    "# Plotar Gráficos Lado a Lado"
   ]
  },
  {
   "cell_type": "code",
   "execution_count": null,
   "id": "f5f56534",
   "metadata": {},
   "outputs": [],
   "source": [
    "# Gerar estações do ano a partir de uma variável do tipo date"
   ]
  },
  {
   "cell_type": "markdown",
   "id": "6c497f17",
   "metadata": {},
   "source": [
    "## Importar e Exportar Dados"
   ]
  },
  {
   "cell_type": "code",
   "execution_count": null,
   "id": "037bb2e9",
   "metadata": {},
   "outputs": [],
   "source": [
    "# Salvar e carregar dados em pkl\n",
    "# Importar pacote para salvar base de dados em disco\n",
    "import pickle\n",
    "\n",
    "# Salvando arquivo\n",
    "# onde: wb = write \n",
    "with open('df.pkl', mode='wb') as f:\n",
    "    pickle.dump([X_treinamento, y_treinamento, X_teste, y_teste],f)\n",
    "\n",
    "# Carregando base salva\n",
    "with open('df.pkl', 'rb') as f:\n",
    "    X_treinamento, y_treinamento, X_teste, y_teste = pickle.load(f)"
   ]
  },
  {
   "cell_type": "code",
   "execution_count": null,
   "id": "b92b3628",
   "metadata": {},
   "outputs": [],
   "source": [
    "# Salvar pandas dataframe como pickle\n",
    "\n",
    "# Importar pacote para salvar base de dados em disco\n",
    "import pickle\n",
    "\n",
    "# Salvar dataframe\n",
    "df.to_pickle(\"df.pkl\")\n",
    "\n",
    "# Carregar dataframe\n",
    "df = pd.read_pickle(\"df.pkl\")"
   ]
  },
  {
   "cell_type": "code",
   "execution_count": null,
   "id": "40e461d5",
   "metadata": {},
   "outputs": [],
   "source": [
    "# Importar arquivo excel\n",
    "df = pd.read_excel('df.xlsx')"
   ]
  },
  {
   "cell_type": "code",
   "execution_count": null,
   "id": "29fe9bfb",
   "metadata": {},
   "outputs": [],
   "source": [
    "# Exportar arquivo excel"
   ]
  },
  {
   "cell_type": "code",
   "execution_count": null,
   "id": "86883fd9",
   "metadata": {},
   "outputs": [],
   "source": [
    "# Importar .csv \n",
    "df = pd.read_csv('D:\\df.csv', sep = \",\")"
   ]
  },
  {
   "cell_type": "code",
   "execution_count": null,
   "id": "32c00e45",
   "metadata": {},
   "outputs": [],
   "source": [
    "# Importar somente algumas colunas do dataframe\n",
    "colunas = ['var_1', 'var_2', 'var_3', 'var_4']\n",
    "\n",
    "# Importar .csv \n",
    "df = pd.read_csv('D:\\df.csv', sep = \",\", names=colunas)"
   ]
  },
  {
   "cell_type": "code",
   "execution_count": null,
   "id": "16bdc3f2",
   "metadata": {},
   "outputs": [],
   "source": [
    "# Exportar .csv \n",
    "df.to_csv('df.csv', encoding = 'utf-8', index = False)"
   ]
  },
  {
   "cell_type": "code",
   "execution_count": null,
   "id": "1fe605c0",
   "metadata": {},
   "outputs": [],
   "source": [
    "# Importar base de dados do stata .dta"
   ]
  },
  {
   "cell_type": "code",
   "execution_count": null,
   "id": "0cfc332a",
   "metadata": {},
   "outputs": [],
   "source": [
    "# Exportar base de dados do stata .dta"
   ]
  },
  {
   "cell_type": "code",
   "execution_count": null,
   "id": "6f1b764b",
   "metadata": {},
   "outputs": [],
   "source": [
    "# Importar varios arquivos .csv fazer append e gerar uma coluna com nome dos arquivos"
   ]
  },
  {
   "cell_type": "code",
   "execution_count": null,
   "id": "0cbdd142",
   "metadata": {},
   "outputs": [],
   "source": [
    "# Importar varios arquivos .csv e usar o endereço e nome do arquivo como nome da tabela"
   ]
  },
  {
   "cell_type": "code",
   "execution_count": null,
   "id": "152cc1bd",
   "metadata": {},
   "outputs": [],
   "source": [
    "# Importar dados do SQLite"
   ]
  },
  {
   "cell_type": "markdown",
   "id": "6a07aaaf",
   "metadata": {},
   "source": [
    "Webscrap por meio de um API do governo\n",
    "\n",
    "Nota: basicamente o que esses comandos fazem é pegar os códigos das estações meteorológicas e substituir no comando que acessa o site, baixar os dados meteorológicos do inmet e salvar em .csv)\n",
    "    \n",
    "    # Definir um vetor com o código das estações meteorológicas \n",
    "> Obs: tem aproximadamente 912 estações, consultar no site do imet\n",
    "x <- c(83512,83659,83704)\n",
    "Estacao = list()\n",
    "Tabela_Estacao = list()\n",
    "\n",
    "for(cod in x) {\n",
    "  Estacao[[as.character(cod)]] <- fromJSON(paste0(\"https://apitempo.inmet.gov.br/estacao/2000-01-01/2020-12-31/\", cod))\n",
    "  Tabela_Estacao[[as.character(cod)]]<- as_data_frame(Estacao[[as.character(cod)]])\n",
    "  write.csv(Estacao[[as.character(cod)]], paste0('Tabela_Estacao_', cod, '.csv'))\n",
    "}"
   ]
  },
  {
   "cell_type": "markdown",
   "id": "722d2cb5",
   "metadata": {},
   "source": [
    "## SQLite \n",
    "\n",
    "* O SQLite é instalado automaticamente juntocom o Anaconda.\n",
    "* Documentação SQLite: http://www.sqlite.org/docs.html \n",
    "* É possivel abrir o SQLite no SQL Browser https://sqlitebrowser.org/dl/\n",
    "\n",
    "#### Bancos de dados Relacionais\n",
    "* Bancos de dados relacionais como MySQL, PostgreSQL e SQLite3 representam e armazenam dados em tabelas e linhas.\n",
    "* Os bancos de dados relacionais utilizam SQL (Structured Querying Language), sendo uma escolha adequada para aplicativos que envolvam o gerenciamento de várias transações.\n",
    "* A estrutura de um banco de dados relacional permite vincular informações de diferentes tabelas por meio do uso de chaves (ou índices).vvvvvvvvvvvvvvvvvvvvvvvvvvvvvvvvvvvvvvvvvvvv"
   ]
  },
  {
   "cell_type": "markdown",
   "id": "c2855085",
   "metadata": {},
   "source": [
    "### Exemplo 1 - Como criar um banco SQL e adicionar valores."
   ]
  },
  {
   "cell_type": "code",
   "execution_count": null,
   "id": "abba34bb",
   "metadata": {},
   "outputs": [],
   "source": [
    "# Reemover banco de dados SQLite (caso exista)\n",
    "import os\n",
    "os.remove(\"escola.db\") if os.path.exists(\"escola.db\") else None"
   ]
  },
  {
   "cell_type": "code",
   "execution_count": null,
   "id": "e93ee70d",
   "metadata": {},
   "outputs": [],
   "source": [
    "# Importando o módulo de acesso ao SQLite\n",
    "import sqlite3"
   ]
  },
  {
   "cell_type": "code",
   "execution_count": null,
   "id": "a245fd61",
   "metadata": {},
   "outputs": [],
   "source": [
    "# Cria uma conexão com o banco de dados. \n",
    "# Se o banco de dados não existir, ele é criado neste momento.\n",
    "con = sqlite3.connect('escola.db')\n",
    "type(con)"
   ]
  },
  {
   "cell_type": "code",
   "execution_count": null,
   "id": "fd82a638",
   "metadata": {},
   "outputs": [],
   "source": [
    "# Criando um cursor \n",
    "# (Um cursor permite percorrer todos os registros em um conjunto de dados)\n",
    "cur = con.cursor()\n",
    "type(cur)"
   ]
  },
  {
   "cell_type": "code",
   "execution_count": null,
   "id": "e2e36b03",
   "metadata": {},
   "outputs": [],
   "source": [
    "# Criando outra sentença SQL para selecionar registros\n",
    "sql_select = 'select * from cursos'\n",
    "cur.execute(sql_select)"
   ]
  },
  {
   "cell_type": "code",
   "execution_count": null,
   "id": "b6fdd628",
   "metadata": {},
   "outputs": [],
   "source": []
  },
  {
   "cell_type": "code",
   "execution_count": null,
   "id": "0f27555c",
   "metadata": {},
   "outputs": [],
   "source": []
  },
  {
   "cell_type": "code",
   "execution_count": null,
   "id": "208d1ed0",
   "metadata": {},
   "outputs": [],
   "source": []
  },
  {
   "cell_type": "markdown",
   "id": "7a5a602c",
   "metadata": {},
   "source": [
    "## TRABALHAR COM MAPAS\n",
    "\n",
    "https://github.com/ipeaGIT/geobr"
   ]
  },
  {
   "cell_type": "code",
   "execution_count": null,
   "id": "aadea410",
   "metadata": {},
   "outputs": [],
   "source": [
    "# Gerar mapa coropletico\n",
    "#pip install geopandas\n",
    "\n",
    "# import geopandas\n",
    "import geopandas as gpd\n",
    "from geobr import read_state\n",
    "\n",
    "# Read specific municipality at a given year\n",
    "INFO_UFS = read_state(year=2017)\n",
    "INFO_UFS\n",
    "\n",
    "\n",
    "# Agregar os dados por estados\n",
    "df2 = df.groupby([\"Siglas\"]).agg(var1_sum=pd.NamedAgg(column=\"var1\", aggfunc=\"sum\"),\n",
    "                                 var2_sum=pd.NamedAgg(column=\"var2\", aggfunc=\"sum\"))\n",
    "\n",
    "# Converter nome das linhas para coluna\n",
    "df2.index.name = 'abbrev_state'\n",
    "df2.reset_index(inplace = True)\n",
    "df2\n",
    "\n",
    "# ver dataframe\n",
    "df2\n",
    "\n",
    "# Unindo df com df2\n",
    "df3 = INFO_UFS.merge(df2, on=\"abbrev_state\", how='left')\n",
    "\n",
    "# Replace missings para zero\n",
    "df3['Desmatamento'] = df3['Desmatamento'].fillna(0)\n",
    "df3['Queimada'] = df3['Queimada'].fillna(0)\n",
    "\n",
    "# ver df\n",
    "df3\n",
    "\n",
    "# Plotar no jupyter\n",
    "%matplotlib inline\n",
    "\n",
    "# Plotar gráfico coroplético\n",
    "ax = df3.plot(column = 'VAR',\n",
    "              cmap = 'Reds',\n",
    "              figsize = (16, 10),\n",
    "              legend = True,\n",
    "              scheme='fisher_jenks',\n",
    "              label=\"abbrev_state\",\n",
    "              edgecolor = 'black')\n",
    "\n",
    "# Titulo\n",
    "plt.title('Titulo do Gráfico', fontsize = 20)\n",
    "plt.show()\n",
    "\n",
    "#salvar\n",
    "fig = ax.get_figure()\n",
    "fig.savefig(\"Grafico_1.png\")\n",
    "\n"
   ]
  },
  {
   "cell_type": "code",
   "execution_count": null,
   "id": "38ceca3f",
   "metadata": {},
   "outputs": [],
   "source": []
  },
  {
   "cell_type": "code",
   "execution_count": null,
   "id": "6bcbe4e1",
   "metadata": {},
   "outputs": [],
   "source": []
  },
  {
   "cell_type": "code",
   "execution_count": null,
   "id": "026623d1",
   "metadata": {},
   "outputs": [],
   "source": []
  },
  {
   "cell_type": "code",
   "execution_count": null,
   "id": "661c190c",
   "metadata": {},
   "outputs": [],
   "source": []
  }
 ],
 "metadata": {
  "kernelspec": {
   "display_name": "Python 3",
   "language": "python",
   "name": "python3"
  },
  "language_info": {
   "codemirror_mode": {
    "name": "ipython",
    "version": 3
   },
   "file_extension": ".py",
   "mimetype": "text/x-python",
   "name": "python",
   "nbconvert_exporter": "python",
   "pygments_lexer": "ipython3",
   "version": "3.8.8"
  }
 },
 "nbformat": 4,
 "nbformat_minor": 5
}
